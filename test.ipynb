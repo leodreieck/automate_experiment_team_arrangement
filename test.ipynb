{
 "cells": [
  {
   "cell_type": "code",
   "execution_count": 2,
   "metadata": {},
   "outputs": [],
   "source": [
    "import pandas as pd\n",
    "import numpy as np"
   ]
  },
  {
   "cell_type": "code",
   "execution_count": 3,
   "metadata": {},
   "outputs": [
    {
     "name": "stdout",
     "output_type": "stream",
     "text": [
      "  Vorname  Nachname Geschlecht  Herkunft  Erfahrung  leitung?  s1  s2\n",
      "0     Leo       NaN          m       NaN          3         0   0   0\n",
      "1    Lisa       NaN          w       NaN          4         0   2   1\n",
      "2   Hanna       NaN          w       NaN          1         0   2   1\n",
      "3    Ella       NaN          w       NaN          2         0   2   1\n",
      "4  Kilian       NaN          m       NaN          0         0   2   1\n",
      "5    Leah       NaN          w       NaN          5         0   2   1\n",
      "6  Gregor       NaN          m       NaN          6         1   2   1\n",
      "7  Adrian       NaN          m       NaN          7         2   2   0\n",
      "8    Rica       NaN          w       NaN          8         3   2   1\n",
      "9   Inken       NaN          w       NaN          9         4   2   0\n"
     ]
    }
   ],
   "source": [
    "rueckmeldungen = pd.read_excel('input/einteilung_survey_results.xlsx')\n",
    "\n",
    "print(rueckmeldungen)"
   ]
  },
  {
   "cell_type": "code",
   "execution_count": 6,
   "metadata": {},
   "outputs": [
    {
     "name": "stdout",
     "output_type": "stream",
     "text": [
      "[[0 0]\n",
      " [2 1]\n",
      " [2 1]\n",
      " [2 1]\n",
      " [2 1]\n",
      " [2 1]\n",
      " [2 1]\n",
      " [2 0]\n",
      " [2 1]\n",
      " [2 0]]\n"
     ]
    }
   ],
   "source": [
    "pref = np.array(rueckmeldungen[[\"s1\",\"s2\"]])\n",
    "np.save(\"input/pref\", np.transpose(pref))\n",
    "print(pref)\n",
    "\n",
    "gender = np.array(rueckmeldungen[\"Geschlecht\"])\n",
    "np.save(\"input/gender\", np.transpose(gender))\n",
    "\n",
    "pol = np.array(rueckmeldungen[\"leitung?\"])\n",
    "np.save(\"input/pol\", np.transpose(pol))\n",
    "\n",
    "erf = np.array(rueckmeldungen[\"Erfahrung\"])\n",
    "np.save(\"input/exp\", np.transpose(erf))\n",
    "\n"
   ]
  },
  {
   "cell_type": "code",
   "execution_count": 37,
   "metadata": {},
   "outputs": [
    {
     "data": {
      "text/plain": [
       "0"
      ]
     },
     "execution_count": 37,
     "metadata": {},
     "output_type": "execute_result"
    }
   ],
   "source": [
    "x = np.load(\"input/pol.npy\")\n",
    "x[0]"
   ]
  },
  {
   "cell_type": "code",
   "execution_count": 27,
   "metadata": {},
   "outputs": [
    {
     "name": "stdout",
     "output_type": "stream",
     "text": [
      "['Irland', 'Frankreich']\n",
      "['USA']\n"
     ]
    }
   ],
   "source": [
    "seminare = pd.read_excel('input/seminare_test.xlsx')\n",
    "for row in seminare.iterrows():\n",
    "    print(row[1][\"TN-Laender\"].split(\", \"))\n"
   ]
  },
  {
   "cell_type": "code",
   "execution_count": 7,
   "metadata": {},
   "outputs": [
    {
     "data": {
      "text/plain": [
       "[1, 2]"
      ]
     },
     "execution_count": 7,
     "metadata": {},
     "output_type": "execute_result"
    }
   ],
   "source": [
    "a = [1,2,3]\n",
    "a[:2]"
   ]
  },
  {
   "cell_type": "code",
   "execution_count": null,
   "metadata": {},
   "outputs": [],
   "source": []
  }
 ],
 "metadata": {
  "kernelspec": {
   "display_name": "Python 3.8.5 ('base')",
   "language": "python",
   "name": "python3"
  },
  "language_info": {
   "codemirror_mode": {
    "name": "ipython",
    "version": 3
   },
   "file_extension": ".py",
   "mimetype": "text/x-python",
   "name": "python",
   "nbconvert_exporter": "python",
   "pygments_lexer": "ipython3",
   "version": "3.8.5"
  },
  "orig_nbformat": 4,
  "vscode": {
   "interpreter": {
    "hash": "9dc1a94b1418722eb2a5cad17f02e877dd0cfb0cb554e8d9cdf42d4ac96efeb1"
   }
  }
 },
 "nbformat": 4,
 "nbformat_minor": 2
}
